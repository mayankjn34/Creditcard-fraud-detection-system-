{
 "cells": [
  {
   "cell_type": "markdown",
   "metadata": {},
   "source": [
    "# Gaussian anomoly detection system for creditcard frauds single variate"
   ]
  },
  {
   "cell_type": "code",
   "execution_count": 112,
   "metadata": {
    "collapsed": true
   },
   "outputs": [],
   "source": [
    "import math\n",
    "import pandas as pd\n",
    "import matplotlib.pyplot as plt\n",
    "import numpy as np"
   ]
  },
  {
   "cell_type": "code",
   "execution_count": 113,
   "metadata": {},
   "outputs": [
    {
     "name": "stdout",
     "output_type": "stream",
     "text": [
      "finished splitting data.......\n"
     ]
    }
   ],
   "source": [
    "data = pd.read_csv(\"creditcard.csv\")\n",
    "negData = data.groupby('Class').get_group(0)\n",
    "posData = data.groupby('Class').get_group(1)\n",
    "train, negCV, negTest = np.split(negData.sample(frac=1), [int(.6*len(negData)), int(.8*len(negData))])\n",
    "posCV, posTest = np.split(posData.sample(frac=1), 2)\n",
    "cv = negCV.append(posCV)\n",
    "test = negTest.append(posTest)\n",
    "Xtrain = train[train.columns[0:30]]\n",
    "ytrain = train[train.columns[30:]]\n",
    "XCV = cv[cv.columns[0:30]]\n",
    "yCV = cv[cv.columns[30:]]\n",
    "Xtest = test[test.columns[0:30]]\n",
    "ytest = test[test.columns[30:]]\n",
    "print(\"finished splitting data.......\")"
   ]
  },
  {
   "cell_type": "code",
   "execution_count": 115,
   "metadata": {},
   "outputs": [
    {
     "name": "stdout",
     "output_type": "stream",
     "text": [
      "learned mu and sigma\n",
      "calculated p(x)\n"
     ]
    },
    {
     "ename": "AttributeError",
     "evalue": "'numpy.ndarray' object has no attribute 'values'",
     "output_type": "error",
     "traceback": [
      "\u001b[0;31m---------------------------------------------------------------------------\u001b[0m",
      "\u001b[0;31mAttributeError\u001b[0m                            Traceback (most recent call last)",
      "\u001b[0;32m<ipython-input-115-1468e9457c97>\u001b[0m in \u001b[0;36m<module>\u001b[0;34m()\u001b[0m\n\u001b[1;32m      5\u001b[0m \u001b[0mprint\u001b[0m\u001b[0;34m(\u001b[0m\u001b[0;34m\"calculated p(x)\"\u001b[0m\u001b[0;34m)\u001b[0m\u001b[0;34m\u001b[0m\u001b[0m\n\u001b[1;32m      6\u001b[0m \u001b[0;34m\u001b[0m\u001b[0m\n\u001b[0;32m----> 7\u001b[0;31m \u001b[0mepsilon\u001b[0m \u001b[0;34m,\u001b[0m \u001b[0mF1\u001b[0m \u001b[0;34m=\u001b[0m \u001b[0mselectThreshold\u001b[0m\u001b[0;34m(\u001b[0m\u001b[0mpCV\u001b[0m\u001b[0;34m,\u001b[0m\u001b[0myCV\u001b[0m\u001b[0;34m)\u001b[0m\u001b[0;34m\u001b[0m\u001b[0m\n\u001b[0m\u001b[1;32m      8\u001b[0m \u001b[0;34m\u001b[0m\u001b[0m\n\u001b[1;32m      9\u001b[0m \u001b[0mprint\u001b[0m \u001b[0;34m(\u001b[0m\u001b[0;34m\"Found best epsilon = \"\u001b[0m \u001b[0;34m+\u001b[0m \u001b[0mstr\u001b[0m\u001b[0;34m(\u001b[0m\u001b[0mepsilon\u001b[0m\u001b[0;34m)\u001b[0m \u001b[0;34m+\u001b[0m \u001b[0;34m\", best F1 = \"\u001b[0m \u001b[0;34m+\u001b[0m \u001b[0mstr\u001b[0m\u001b[0;34m(\u001b[0m\u001b[0mF1\u001b[0m\u001b[0;34m)\u001b[0m\u001b[0;34m)\u001b[0m\u001b[0;34m\u001b[0m\u001b[0m\n",
      "\u001b[0;32m<ipython-input-114-19442fe0ecdf>\u001b[0m in \u001b[0;36mselectThreshold\u001b[0;34m(yval, pval)\u001b[0m\n\u001b[1;32m     26\u001b[0m     \u001b[0;32mreturn\u001b[0m \u001b[0ma\u001b[0m\u001b[0;34m\u001b[0m\u001b[0m\n\u001b[1;32m     27\u001b[0m \u001b[0;32mdef\u001b[0m \u001b[0mselectThreshold\u001b[0m\u001b[0;34m(\u001b[0m\u001b[0myval\u001b[0m\u001b[0;34m,\u001b[0m \u001b[0mpval\u001b[0m\u001b[0;34m)\u001b[0m\u001b[0;34m:\u001b[0m\u001b[0;34m\u001b[0m\u001b[0m\n\u001b[0;32m---> 28\u001b[0;31m     \u001b[0myval\u001b[0m \u001b[0;34m=\u001b[0m \u001b[0mnp\u001b[0m\u001b[0;34m.\u001b[0m\u001b[0msqueeze\u001b[0m\u001b[0;34m(\u001b[0m\u001b[0myval\u001b[0m\u001b[0;34m.\u001b[0m\u001b[0mvalues\u001b[0m\u001b[0;34m)\u001b[0m\u001b[0;34m.\u001b[0m\u001b[0mastype\u001b[0m\u001b[0;34m(\u001b[0m\u001b[0mint\u001b[0m\u001b[0;34m)\u001b[0m\u001b[0;34m\u001b[0m\u001b[0m\n\u001b[0m\u001b[1;32m     29\u001b[0m \u001b[0;34m\u001b[0m\u001b[0m\n\u001b[1;32m     30\u001b[0m     \u001b[0mbestEpsilon\u001b[0m \u001b[0;34m=\u001b[0m \u001b[0;36m0.0\u001b[0m\u001b[0;34m\u001b[0m\u001b[0m\n",
      "\u001b[0;31mAttributeError\u001b[0m: 'numpy.ndarray' object has no attribute 'values'"
     ]
    }
   ],
   "source": [
    "mu, std = estimateGauss(Xtrain)\n",
    "print(\"learned mu and sigma\")\n",
    "\n",
    "pCV = singlevariate(XCV,mu,std)\n",
    "print(\"calculated p(x)\")\n",
    "\n",
    "epsilon , F1 = selectThreshold(pCV,yCV)\n",
    "\n",
    "print (\"Found best epsilon = \" + str(epsilon) + \", best F1 = \" + str(F1))\n",
    "\n",
    "ptest = singlevariate(Xtest, mu, std) # Fit final model on test set\n",
    "\n",
    "predictions = (ptest < epsilon).astype(int)\n",
    "ytest = np.squeeze(ytest.values).astype(int)\n",
    "\n",
    "tp = np.sum((predictions == 1).astype(int) & (ytest == 1).astype(int))\n",
    "fp = np.sum((predictions == 1).astype(int) & (ytest == 0).astype(int))\n",
    "fn = np.sum((predictions == 0).astype(int) & (ytest == 1).astype(int))\n",
    "tn = np.sum((predictions == 0).astype(int) & (ytest == 0).astype(int))\n",
    "\n",
    "prec = (tp * 1.0) / (tp + fp)\n",
    "rec = (tp * 1.0) / (tp + fn)\n",
    "\n",
    "\n",
    "print (\"Precision = \" + str(prec) + \", Recall = \" + str(rec))"
   ]
  },
  {
   "cell_type": "code",
   "execution_count": null,
   "metadata": {
    "collapsed": true
   },
   "outputs": [],
   "source": []
  },
  {
   "cell_type": "code",
   "execution_count": 114,
   "metadata": {},
   "outputs": [],
   "source": [
    "def estimateGauss(X):\n",
    "    mu = X.mean()\n",
    "    m,n = X.shape\n",
    "    std = np.zeros((1,n))\n",
    "    for i in range(0,n):\n",
    "                   std[0,i] += np.sum(np.square(X.iloc[:,i].values -mu[i]))\n",
    "    std = std.reshape(n,)\n",
    "    return mu, std\n",
    "def singlevariate(X,mu,std):\n",
    "    m ,n = X.shape\n",
    "    p = np.zeros((m,n))\n",
    "    a = np.ones((m,1))\n",
    "    \n",
    "    for i in range(0,n):\n",
    "        r = std[i]*math.pow(2*math.pi,0.5)\n",
    "        s = np.square(X.iloc[:,i].values-mu[i])\n",
    "        \n",
    "        t = 2*(std[i]**2)\n",
    "        v = s/t\n",
    "        u = np.exp(-v)\n",
    "        p[:,i] = (1.0/r)*u\n",
    "    #print(p)\n",
    "    for i in range(0,m):\n",
    "        for j in range(0,n):\n",
    "            a[i,0] *= p[i,j]\n",
    "    return a\n",
    "def selectThreshold(yval, pval):\n",
    "    yval = np.squeeze(yval.values).astype(int)\n",
    "\n",
    "    bestEpsilon = 0.0\n",
    "    bestF1 = 0.0\n",
    "\n",
    "    stepsize = (max(pval) - min(pval)) / 1000\n",
    "    for epsilon in np.arange(min(pval), max(pval), stepsize):\n",
    "        predictions = (pval < epsilon).astype(int)\n",
    "\n",
    "        tp = np.sum((predictions == 1).astype(int) & (yval == 1).astype(int))\n",
    "        fp = np.sum((predictions == 1).astype(int) & (yval == 0).astype(int))\n",
    "        fn = np.sum((predictions == 0).astype(int) & (yval == 1).astype(int))\n",
    "\n",
    "        # calculate precision & recall\n",
    "        prec = (tp * 1.0) / (tp + fp)\n",
    "        rec = (tp * 1.0) / (tp + fn)\n",
    "\n",
    "        F1 = (2 * prec * rec) * 1.0 / (prec + rec) # calculate F1 score using current epsilon\n",
    "\n",
    "        if F1 > bestF1:\n",
    "            bestF1 = F1\n",
    "            bestEpsilon = epsilon\n",
    "\n",
    "    return bestEpsilon, bestF1\n"
   ]
  },
  {
   "cell_type": "code",
   "execution_count": 111,
   "metadata": {},
   "outputs": [
    {
     "ename": "AttributeError",
     "evalue": "'numpy.ndarray' object has no attribute 'values'",
     "output_type": "error",
     "traceback": [
      "\u001b[0;31m---------------------------------------------------------------------------\u001b[0m",
      "\u001b[0;31mAttributeError\u001b[0m                            Traceback (most recent call last)",
      "\u001b[0;32m<ipython-input-111-4d25e973eccf>\u001b[0m in \u001b[0;36m<module>\u001b[0;34m()\u001b[0m\n\u001b[1;32m      1\u001b[0m \u001b[0mmu\u001b[0m \u001b[0;34m,\u001b[0m \u001b[0mstd\u001b[0m \u001b[0;34m=\u001b[0m \u001b[0mestimateGauss\u001b[0m\u001b[0;34m(\u001b[0m\u001b[0mXtrain\u001b[0m\u001b[0;34m)\u001b[0m\u001b[0;34m\u001b[0m\u001b[0m\n\u001b[1;32m      2\u001b[0m \u001b[0mpCV\u001b[0m \u001b[0;34m=\u001b[0m \u001b[0msinglevariate\u001b[0m\u001b[0;34m(\u001b[0m\u001b[0mXCV\u001b[0m\u001b[0;34m,\u001b[0m\u001b[0mmu\u001b[0m\u001b[0;34m,\u001b[0m\u001b[0mstd\u001b[0m\u001b[0;34m)\u001b[0m\u001b[0;34m\u001b[0m\u001b[0m\n\u001b[0;32m----> 3\u001b[0;31m \u001b[0mepsilon\u001b[0m \u001b[0;34m,\u001b[0m \u001b[0mF1\u001b[0m \u001b[0;34m=\u001b[0m \u001b[0mselectThreshold\u001b[0m\u001b[0;34m(\u001b[0m\u001b[0mpCV\u001b[0m\u001b[0;34m,\u001b[0m\u001b[0myCV\u001b[0m\u001b[0;34m)\u001b[0m\u001b[0;34m\u001b[0m\u001b[0m\n\u001b[0m\u001b[1;32m      4\u001b[0m \u001b[0mprint\u001b[0m\u001b[0;34m(\u001b[0m\u001b[0;34m)\u001b[0m\u001b[0;34m\u001b[0m\u001b[0m\n",
      "\u001b[0;32m<ipython-input-110-19442fe0ecdf>\u001b[0m in \u001b[0;36mselectThreshold\u001b[0;34m(yval, pval)\u001b[0m\n\u001b[1;32m     26\u001b[0m     \u001b[0;32mreturn\u001b[0m \u001b[0ma\u001b[0m\u001b[0;34m\u001b[0m\u001b[0m\n\u001b[1;32m     27\u001b[0m \u001b[0;32mdef\u001b[0m \u001b[0mselectThreshold\u001b[0m\u001b[0;34m(\u001b[0m\u001b[0myval\u001b[0m\u001b[0;34m,\u001b[0m \u001b[0mpval\u001b[0m\u001b[0;34m)\u001b[0m\u001b[0;34m:\u001b[0m\u001b[0;34m\u001b[0m\u001b[0m\n\u001b[0;32m---> 28\u001b[0;31m     \u001b[0myval\u001b[0m \u001b[0;34m=\u001b[0m \u001b[0mnp\u001b[0m\u001b[0;34m.\u001b[0m\u001b[0msqueeze\u001b[0m\u001b[0;34m(\u001b[0m\u001b[0myval\u001b[0m\u001b[0;34m.\u001b[0m\u001b[0mvalues\u001b[0m\u001b[0;34m)\u001b[0m\u001b[0;34m.\u001b[0m\u001b[0mastype\u001b[0m\u001b[0;34m(\u001b[0m\u001b[0mint\u001b[0m\u001b[0;34m)\u001b[0m\u001b[0;34m\u001b[0m\u001b[0m\n\u001b[0m\u001b[1;32m     29\u001b[0m \u001b[0;34m\u001b[0m\u001b[0m\n\u001b[1;32m     30\u001b[0m     \u001b[0mbestEpsilon\u001b[0m \u001b[0;34m=\u001b[0m \u001b[0;36m0.0\u001b[0m\u001b[0;34m\u001b[0m\u001b[0m\n",
      "\u001b[0;31mAttributeError\u001b[0m: 'numpy.ndarray' object has no attribute 'values'"
     ]
    }
   ],
   "source": [
    "mu , std = estimateGauss(Xtrain)\n",
    "pCV = singlevariate(XCV,mu,std)\n",
    "epsilon , F1 = selectThreshold(pCV,yCV)"
   ]
  },
  {
   "cell_type": "code",
   "execution_count": 74,
   "metadata": {},
   "outputs": [
    {
     "data": {
      "text/plain": [
       "array([-0.71194594, -0.63810097, -0.33562009, ...,  0.36488969,\n",
       "       -0.3518013 ,  0.81192358])"
      ]
     },
     "execution_count": 74,
     "metadata": {},
     "output_type": "execute_result"
    }
   ],
   "source": [
    "Xtrain.iloc[:,13].values"
   ]
  },
  {
   "cell_type": "code",
   "execution_count": 69,
   "metadata": {},
   "outputs": [
    {
     "data": {
      "text/plain": [
       "3167.5221457862294"
      ]
     },
     "execution_count": 69,
     "metadata": {},
     "output_type": "execute_result"
    }
   ],
   "source": [
    "np.mean(Xtrain.values)"
   ]
  },
  {
   "cell_type": "code",
   "execution_count": null,
   "metadata": {
    "collapsed": true
   },
   "outputs": [],
   "source": []
  }
 ],
 "metadata": {
  "kernelspec": {
   "display_name": "Python 3",
   "language": "python",
   "name": "python3"
  },
  "language_info": {
   "codemirror_mode": {
    "name": "ipython",
    "version": 3
   },
   "file_extension": ".py",
   "mimetype": "text/x-python",
   "name": "python",
   "nbconvert_exporter": "python",
   "pygments_lexer": "ipython3",
   "version": "3.6.3"
  }
 },
 "nbformat": 4,
 "nbformat_minor": 2
}
